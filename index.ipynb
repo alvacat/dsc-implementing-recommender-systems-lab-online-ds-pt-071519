{
 "cells": [
  {
   "cell_type": "markdown",
   "metadata": {},
   "source": [
    "# Implementing Recommender Systems - Lab\n",
    "\n",
    "## Introduction\n",
    "\n",
    "In this lab, you'll practice creating a recommender system model using `surprise`. You'll also get the chance to create a more complete recommender system pipeline to obtain the top recommendations for a specific user.\n"
   ]
  },
  {
   "cell_type": "markdown",
   "metadata": {},
   "source": [
    "## Objectives\n",
    "\n",
    "In this lab you will: \n",
    "\n",
    "- Use surprise's built-in reader class to process data to work with recommender algorithms \n",
    "- Obtain a prediction for a specific user for a particular item \n",
    "- Introduce a new user with rating to a rating matrix and make recommendations for them \n",
    "- Create a function that will return the top n recommendations for a user \n"
   ]
  },
  {
   "cell_type": "markdown",
   "metadata": {},
   "source": [
    "For this lab, we will be using the famous 1M movie dataset. It contains a collection of user ratings for many different movies. In the last lesson, you were exposed to working with `surprise` datasets. In this lab, you will also go through the process of reading in a dataset into the `surprise` dataset format. To begin with, load the dataset into a Pandas DataFrame. Determine which columns are necessary for your recommendation system and drop any extraneous ones."
   ]
  },
  {
   "cell_type": "code",
   "execution_count": 1,
   "metadata": {},
   "outputs": [
    {
     "name": "stdout",
     "output_type": "stream",
     "text": [
      "<class 'pandas.core.frame.DataFrame'>\n",
      "RangeIndex: 100836 entries, 0 to 100835\n",
      "Data columns (total 4 columns):\n",
      "userId       100836 non-null int64\n",
      "movieId      100836 non-null int64\n",
      "rating       100836 non-null float64\n",
      "timestamp    100836 non-null int64\n",
      "dtypes: float64(1), int64(3)\n",
      "memory usage: 3.1 MB\n"
     ]
    }
   ],
   "source": [
    "import pandas as pd\n",
    "df = pd.read_csv('./ml-latest-small/ratings.csv')\n",
    "df.info()"
   ]
  },
  {
   "cell_type": "code",
   "execution_count": 2,
   "metadata": {},
   "outputs": [],
   "source": [
    "# Drop unnecessary columns\n",
    "new_df = df.drop('timestamp',axis=1)"
   ]
  },
  {
   "cell_type": "markdown",
   "metadata": {},
   "source": [
    "It's now time to transform the dataset into something compatible with `surprise`. In order to do this, you're going to need `Reader` and `Dataset` classes. There's a method in `Dataset` specifically for loading dataframes."
   ]
  },
  {
   "cell_type": "code",
   "execution_count": 3,
   "metadata": {},
   "outputs": [],
   "source": [
    "from surprise import Reader, Dataset\n",
    "# read in values as Surprise dataset \n",
    "reader=Reader()\n",
    "data=Dataset.load_from_df(new_df,reader)"
   ]
  },
  {
   "cell_type": "markdown",
   "metadata": {},
   "source": [
    "Let's look at how many users and items we have in our dataset. If using neighborhood-based methods, this will help us determine whether or not we should perform user-user or item-item similarity"
   ]
  },
  {
   "cell_type": "code",
   "execution_count": 4,
   "metadata": {},
   "outputs": [
    {
     "name": "stdout",
     "output_type": "stream",
     "text": [
      "Number of users:  610 \n",
      "\n",
      "Number of items:  9724\n"
     ]
    }
   ],
   "source": [
    "dataset = data.build_full_trainset()\n",
    "print('Number of users: ', dataset.n_users, '\\n')\n",
    "print('Number of items: ', dataset.n_items)"
   ]
  },
  {
   "cell_type": "markdown",
   "metadata": {},
   "source": [
    "## Determine the best model \n",
    "\n",
    "Now, compare the different models and see which ones perform best. For consistency sake, use RMSE to evaluate models. Remember to cross-validate! Can you get a model with a higher average RMSE on test data than 0.869?"
   ]
  },
  {
   "cell_type": "code",
   "execution_count": 5,
   "metadata": {},
   "outputs": [],
   "source": [
    "# importing relevant libraries\n",
    "from surprise.model_selection import cross_validate\n",
    "from surprise.prediction_algorithms import SVD\n",
    "from surprise.prediction_algorithms import KNNWithMeans, KNNBasic, KNNBaseline\n",
    "from surprise.model_selection import GridSearchCV\n",
    "import numpy as np"
   ]
  },
  {
   "cell_type": "code",
   "execution_count": 6,
   "metadata": {},
   "outputs": [
    {
     "name": "stderr",
     "output_type": "stream",
     "text": [
      "[Parallel(n_jobs=-1)]: Using backend LokyBackend with 2 concurrent workers.\n",
      "[Parallel(n_jobs=-1)]: Done  14 tasks      | elapsed:  1.4min\n",
      "[Parallel(n_jobs=-1)]: Done  20 out of  20 | elapsed:  2.1min finished\n"
     ]
    }
   ],
   "source": [
    "## Perform a gridsearch with SVD\n",
    "# ⏰ This cell may take several minutes to run\n",
    "param_grid={'n_factors':[20,100],'reg_all':[0.4,0.6]}\n",
    "gridsearch_model=GridSearchCV(SVD,param_grid,n_jobs=-1,joblib_verbose=5)\n",
    "gridsearch_model.fit(data)"
   ]
  },
  {
   "cell_type": "code",
   "execution_count": 7,
   "metadata": {},
   "outputs": [
    {
     "name": "stdout",
     "output_type": "stream",
     "text": [
      "{'rmse': 0.8829152410102159, 'mae': 0.681920722368597}\n",
      "{'rmse': {'n_factors': 20, 'reg_all': 0.4}, 'mae': {'n_factors': 20, 'reg_all': 0.4}}\n"
     ]
    }
   ],
   "source": [
    "# print out optimal parameters for SVD after GridSearch\n",
    "print(gridsearch_model.best_score)\n",
    "print(gridsearch_model.best_params)"
   ]
  },
  {
   "cell_type": "code",
   "execution_count": 8,
   "metadata": {},
   "outputs": [],
   "source": [
    "# cross validating with KNNBasic\n",
    "from surprise.prediction_algorithms import knns\n",
    "from surprise.similarities import pearson\n",
    "from surprise import accuracy\n",
    "from surprise.model_selection import cross_validate\n",
    "\n",
    "sim_pearson={'name':'pearson','user_based':True}\n",
    "basic=knns.KNNBasic(sim_options=sim_pearson)\n",
    "cv_knn_basic=cross_validate(basic,data,n_jobs=-1)"
   ]
  },
  {
   "cell_type": "code",
   "execution_count": 9,
   "metadata": {},
   "outputs": [
    {
     "name": "stdout",
     "output_type": "stream",
     "text": [
      "('test_rmse', array([0.96466985, 0.97530381, 0.97645029, 0.97006617, 0.97582677]))\n",
      "('test_mae', array([0.74565013, 0.75314846, 0.75637784, 0.75022129, 0.75080062]))\n",
      "('fit_time', (2.3469998836517334, 3.1569907665252686, 2.0739729404449463, 2.5579946041107178, 1.8489890098571777))\n",
      "('test_time', (3.8189942836761475, 3.1980020999908447, 3.6259987354278564, 2.967010498046875, 5.350003480911255))\n",
      "---------------\n",
      "0.9724633788359777\n"
     ]
    }
   ],
   "source": [
    "# print out the average RMSE score for the test set\n",
    "for item in cv_knn_basic.items():\n",
    "    print(item)\n",
    "print('-'*15)\n",
    "print(np.mean(cv_knn_basic['test_rmse']))"
   ]
  },
  {
   "cell_type": "code",
   "execution_count": 10,
   "metadata": {},
   "outputs": [],
   "source": [
    "# cross validating with KNNBaseline\n",
    "sim_pearson={'name':'pearson','user_based':True}\n",
    "baseline=knns.KNNBaseline(sim_options=sim_pearson)\n",
    "cv_knn_baseline=cross_validate(baseline,data,n_jobs=-1)"
   ]
  },
  {
   "cell_type": "code",
   "execution_count": 11,
   "metadata": {},
   "outputs": [
    {
     "name": "stdout",
     "output_type": "stream",
     "text": [
      "('test_rmse', array([0.87767715, 0.87791632, 0.86818693, 0.87859792, 0.88049464]))\n",
      "('test_mae', array([0.66957268, 0.67309557, 0.66401866, 0.66924598, 0.67215008]))\n",
      "('fit_time', (2.668001890182495, 3.4969892501831055, 2.718001365661621, 2.8639931678771973, 1.979992151260376))\n",
      "('test_time', (6.156996250152588, 5.070993185043335, 5.53098726272583, 4.299993276596069, 3.408992052078247))\n",
      "---------------\n",
      "0.8765745926990386\n"
     ]
    }
   ],
   "source": [
    "# print out the average score for the test set\n",
    "for item in cv_knn_baseline.items():\n",
    "    print(item)\n",
    "print('-'*15)\n",
    "print(np.mean(cv_knn_baseline['test_rmse']))"
   ]
  },
  {
   "cell_type": "markdown",
   "metadata": {},
   "source": [
    "Based off these outputs, it seems like the best performing model is the SVD model with `n_factors = 50` and a regularization rate of 0.05. Use that model or if you found one that performs better, feel free to use that to make some predictions."
   ]
  },
  {
   "cell_type": "markdown",
   "metadata": {},
   "source": [
    "## Making Recommendations\n",
    "\n",
    "It's important that the output for the recommendation is interpretable to people. Rather than returning the `movie_id` values, it would be far more valuable to return the actual title of the movie. As a first step, let's read in the movies to a dataframe and take a peek at what information we have about them."
   ]
  },
  {
   "cell_type": "code",
   "execution_count": 12,
   "metadata": {},
   "outputs": [],
   "source": [
    "df_movies = pd.read_csv('./ml-latest-small/movies.csv')"
   ]
  },
  {
   "cell_type": "code",
   "execution_count": 13,
   "metadata": {
    "scrolled": true
   },
   "outputs": [
    {
     "data": {
      "text/html": [
       "<div>\n",
       "<style scoped>\n",
       "    .dataframe tbody tr th:only-of-type {\n",
       "        vertical-align: middle;\n",
       "    }\n",
       "\n",
       "    .dataframe tbody tr th {\n",
       "        vertical-align: top;\n",
       "    }\n",
       "\n",
       "    .dataframe thead th {\n",
       "        text-align: right;\n",
       "    }\n",
       "</style>\n",
       "<table border=\"1\" class=\"dataframe\">\n",
       "  <thead>\n",
       "    <tr style=\"text-align: right;\">\n",
       "      <th></th>\n",
       "      <th>movieId</th>\n",
       "      <th>title</th>\n",
       "      <th>genres</th>\n",
       "    </tr>\n",
       "  </thead>\n",
       "  <tbody>\n",
       "    <tr>\n",
       "      <th>0</th>\n",
       "      <td>1</td>\n",
       "      <td>Toy Story (1995)</td>\n",
       "      <td>Adventure|Animation|Children|Comedy|Fantasy</td>\n",
       "    </tr>\n",
       "    <tr>\n",
       "      <th>1</th>\n",
       "      <td>2</td>\n",
       "      <td>Jumanji (1995)</td>\n",
       "      <td>Adventure|Children|Fantasy</td>\n",
       "    </tr>\n",
       "    <tr>\n",
       "      <th>2</th>\n",
       "      <td>3</td>\n",
       "      <td>Grumpier Old Men (1995)</td>\n",
       "      <td>Comedy|Romance</td>\n",
       "    </tr>\n",
       "    <tr>\n",
       "      <th>3</th>\n",
       "      <td>4</td>\n",
       "      <td>Waiting to Exhale (1995)</td>\n",
       "      <td>Comedy|Drama|Romance</td>\n",
       "    </tr>\n",
       "    <tr>\n",
       "      <th>4</th>\n",
       "      <td>5</td>\n",
       "      <td>Father of the Bride Part II (1995)</td>\n",
       "      <td>Comedy</td>\n",
       "    </tr>\n",
       "  </tbody>\n",
       "</table>\n",
       "</div>"
      ],
      "text/plain": [
       "   movieId                               title  \\\n",
       "0        1                    Toy Story (1995)   \n",
       "1        2                      Jumanji (1995)   \n",
       "2        3             Grumpier Old Men (1995)   \n",
       "3        4            Waiting to Exhale (1995)   \n",
       "4        5  Father of the Bride Part II (1995)   \n",
       "\n",
       "                                        genres  \n",
       "0  Adventure|Animation|Children|Comedy|Fantasy  \n",
       "1                   Adventure|Children|Fantasy  \n",
       "2                               Comedy|Romance  \n",
       "3                         Comedy|Drama|Romance  \n",
       "4                                       Comedy  "
      ]
     },
     "execution_count": 13,
     "metadata": {},
     "output_type": "execute_result"
    }
   ],
   "source": [
    "df_movies.head()"
   ]
  },
  {
   "cell_type": "markdown",
   "metadata": {},
   "source": [
    "## Making simple predictions\n",
    "Just as a reminder, let's look at how you make a prediction for an individual user and item. First, we'll fit the SVD model we had from before."
   ]
  },
  {
   "cell_type": "code",
   "execution_count": 14,
   "metadata": {},
   "outputs": [
    {
     "data": {
      "text/plain": [
       "<surprise.prediction_algorithms.matrix_factorization.SVD at 0x27c96946ef0>"
      ]
     },
     "execution_count": 14,
     "metadata": {},
     "output_type": "execute_result"
    }
   ],
   "source": [
    "svd = SVD(n_factors= 50, reg_all=0.05)\n",
    "svd.fit(dataset)"
   ]
  },
  {
   "cell_type": "code",
   "execution_count": 15,
   "metadata": {},
   "outputs": [
    {
     "data": {
      "text/plain": [
       "Prediction(uid=2, iid=4, r_ui=None, est=3.0727732514798203, details={'was_impossible': False})"
      ]
     },
     "execution_count": 15,
     "metadata": {},
     "output_type": "execute_result"
    }
   ],
   "source": [
    "svd.predict(2, 4)"
   ]
  },
  {
   "cell_type": "markdown",
   "metadata": {},
   "source": [
    "This prediction value is a tuple and each of the values within it can be accessed by way of indexing. Now let's put our knowledge of recommendation systems to do something interesting: making predictions for a new user!"
   ]
  },
  {
   "cell_type": "markdown",
   "metadata": {},
   "source": [
    "## Obtaining User Ratings \n",
    "\n",
    "It's great that we have working models and everything, but wouldn't it be nice to get to recommendations specifically tailored to your preferences? That's what we'll be doing now. The first step is to create a function that allows us to pick randomly selected movies. The function should present users with a movie and ask them to rate it. If they have not seen the movie, they should be able to skip rating it. \n",
    "\n",
    "The function `movie_rater()` should take as parameters: \n",
    "\n",
    "* `movie_df`: DataFrame - a dataframe containing the movie ids, name of movie, and genres\n",
    "* `num`: int - number of ratings\n",
    "* `genre`: string - a specific genre from which to draw movies\n",
    "\n",
    "The function returns:\n",
    "* rating_list : list - a collection of dictionaries in the format of {'userId': int , 'movieId': int , 'rating': float}\n",
    "\n",
    "#### This function is optional, but fun :) "
   ]
  },
  {
   "cell_type": "code",
   "execution_count": 18,
   "metadata": {},
   "outputs": [],
   "source": [
    "def movie_rater(movie_df,num=5, genre=None):\n",
    "    userId=1000\n",
    "    rating_list=[]\n",
    "    while num>0:\n",
    "        if genre:\n",
    "            movie = movie_df[movie_df['genres'].str.contains(genre)].sample(1)\n",
    "        else:\n",
    "            movie = movie_df.sample(1)\n",
    "        print(\"\\n\")\n",
    "        print(movie)\n",
    "        rating=input(\"How do you rate this movie on a scale of 1-5? Press 'n' if you haven't seen it.\")\n",
    "        if rating=='n':\n",
    "            continue\n",
    "        else:\n",
    "            rating_list.append({'userId':userId,'movieId':movie['movieId'].values[0],'rating':int(rating)})\n",
    "            num-=1\n",
    "    return rating_list"
   ]
  },
  {
   "cell_type": "code",
   "execution_count": 19,
   "metadata": {
    "scrolled": true
   },
   "outputs": [
    {
     "name": "stdout",
     "output_type": "stream",
     "text": [
      "\n",
      "\n",
      "      movieId                      title  genres\n",
      "3846     5401  Undercover Brother (2002)  Comedy\n",
      "How do you rate this movie on a scale of 1-5? Press 'n' if you haven't seen it.n\n",
      "\n",
      "\n",
      "      movieId                               title  genres\n",
      "9569   174045  Goon: Last of the Enforcers (2017)  Comedy\n",
      "How do you rate this movie on a scale of 1-5? Press 'n' if you haven't seen it.5\n",
      "\n",
      "\n",
      "      movieId                title          genres\n",
      "7390    79590  Rebound, The (2009)  Comedy|Romance\n",
      "How do you rate this movie on a scale of 1-5? Press 'n' if you haven't seen it.n\n",
      "\n",
      "\n",
      "      movieId                  title           genres\n",
      "5768    31223  Racing Stripes (2005)  Children|Comedy\n",
      "How do you rate this movie on a scale of 1-5? Press 'n' if you haven't seen it.n\n",
      "\n",
      "\n",
      "      movieId                      title                  genres\n",
      "4727     7049  Flying Down to Rio (1933)  Comedy|Musical|Romance\n",
      "How do you rate this movie on a scale of 1-5? Press 'n' if you haven't seen it.n\n",
      "\n",
      "\n",
      "      movieId                     title                 genres\n",
      "4935     7438  Kill Bill: Vol. 2 (2004)  Action|Drama|Thriller\n",
      "How do you rate this movie on a scale of 1-5? Press 'n' if you haven't seen it.3\n",
      "\n",
      "\n",
      "      movieId           title                        genres\n",
      "3980     5613  8 Women (2002)  Comedy|Crime|Musical|Mystery\n",
      "How do you rate this movie on a scale of 1-5? Press 'n' if you haven't seen it.n\n",
      "\n",
      "\n",
      "      movieId        title genres\n",
      "6904    63876  Milk (2008)  Drama\n",
      "How do you rate this movie on a scale of 1-5? Press 'n' if you haven't seen it.n\n",
      "\n",
      "\n",
      "      movieId                  title           genres\n",
      "3076     4129  Made in Heaven (1987)  Fantasy|Romance\n",
      "How do you rate this movie on a scale of 1-5? Press 'n' if you haven't seen it.n\n",
      "\n",
      "\n",
      "      movieId                  title                 genres\n",
      "4777     7114  Collector, The (1965)  Drama|Horror|Thriller\n",
      "How do you rate this movie on a scale of 1-5? Press 'n' if you haven't seen it.n\n",
      "\n",
      "\n",
      "      movieId            title         genres\n",
      "9500   170817  Snatched (2017)  Action|Comedy\n",
      "How do you rate this movie on a scale of 1-5? Press 'n' if you haven't seen it.n\n",
      "\n",
      "\n",
      "      movieId                                        title         genres\n",
      "4469     6597  Princess Blade, The (Shura Yukihime) (2001)  Action|Sci-Fi\n",
      "How do you rate this movie on a scale of 1-5? Press 'n' if you haven't seen it.n\n",
      "\n",
      "\n",
      "      movieId             title                       genres\n",
      "6902    63853  Australia (2008)  Adventure|Drama|War|Western\n",
      "How do you rate this movie on a scale of 1-5? Press 'n' if you haven't seen it.n\n",
      "\n",
      "\n",
      "      movieId         title                genres\n",
      "3116     4191  Alfie (1966)  Comedy|Drama|Romance\n",
      "How do you rate this movie on a scale of 1-5? Press 'n' if you haven't seen it.n\n",
      "\n",
      "\n",
      "      movieId                               title  \\\n",
      "1487     2012  Back to the Future Part III (1990)   \n",
      "\n",
      "                               genres  \n",
      "1487  Adventure|Comedy|Sci-Fi|Western  \n",
      "How do you rate this movie on a scale of 1-5? Press 'n' if you haven't seen it.5\n",
      "\n",
      "\n",
      "      movieId                    title       genres\n",
      "8854   133115  We Could Be King (2014)  Documentary\n",
      "How do you rate this movie on a scale of 1-5? Press 'n' if you haven't seen it.n\n",
      "\n",
      "\n",
      "      movieId                  title genres\n",
      "4020     5682  Grey Zone, The (2001)  Drama\n",
      "How do you rate this movie on a scale of 1-5? Press 'n' if you haven't seen it.n\n",
      "\n",
      "\n",
      "      movieId                                  title  \\\n",
      "2452     3265  Hard-Boiled (Lat sau san taam) (1992)   \n",
      "\n",
      "                           genres  \n",
      "2452  Action|Crime|Drama|Thriller  \n",
      "How do you rate this movie on a scale of 1-5? Press 'n' if you haven't seen it.n\n",
      "\n",
      "\n",
      "      movieId                             title  \\\n",
      "1822     2422  Karate Kid, Part III, The (1989)   \n",
      "\n",
      "                               genres  \n",
      "1822  Action|Adventure|Children|Drama  \n",
      "How do you rate this movie on a scale of 1-5? Press 'n' if you haven't seen it.n\n",
      "\n",
      "\n",
      "      movieId                                   title  genres\n",
      "9482   169912  Denis Leary: No Cure for Cancer (1993)  Comedy\n",
      "How do you rate this movie on a scale of 1-5? Press 'n' if you haven't seen it.n\n",
      "\n",
      "\n",
      "      movieId      title                                 genres\n",
      "5551    26693  It (1990)  Drama|Fantasy|Horror|Mystery|Thriller\n",
      "How do you rate this movie on a scale of 1-5? Press 'n' if you haven't seen it.n\n",
      "\n",
      "\n",
      "      movieId                  title                 genres\n",
      "7375    79185  Knight and Day (2010)  Action|Comedy|Romance\n",
      "How do you rate this movie on a scale of 1-5? Press 'n' if you haven't seen it.n\n",
      "\n",
      "\n",
      "      movieId                                              title  \\\n",
      "4800     7153  Lord of the Rings: The Return of the King, The...   \n",
      "\n",
      "                              genres  \n",
      "4800  Action|Adventure|Drama|Fantasy  \n",
      "How do you rate this movie on a scale of 1-5? Press 'n' if you haven't seen it.3\n"
     ]
    },
    {
     "data": {
      "text/plain": [
       "[{'userId': 1000, 'movieId': 174045, 'rating': 5},\n",
       " {'userId': 1000, 'movieId': 7438, 'rating': 3},\n",
       " {'userId': 1000, 'movieId': 2012, 'rating': 5},\n",
       " {'userId': 1000, 'movieId': 7153, 'rating': 3}]"
      ]
     },
     "execution_count": 19,
     "metadata": {},
     "output_type": "execute_result"
    }
   ],
   "source": [
    "# try out the new function here!\n",
    "movie_rater(df_movies,4)"
   ]
  },
  {
   "cell_type": "markdown",
   "metadata": {},
   "source": [
    "If you're struggling to come up with the above function, you can use this list of user ratings to complete the next segment"
   ]
  },
  {
   "cell_type": "code",
   "execution_count": 20,
   "metadata": {},
   "outputs": [],
   "source": [
    "user_rating=[{'userId': 1000, 'movieId': 174045, 'rating': 5},\n",
    " {'userId': 1000, 'movieId': 7438, 'rating': 3},\n",
    " {'userId': 1000, 'movieId': 2012, 'rating': 5},\n",
    " {'userId': 1000, 'movieId': 7153, 'rating': 3}]"
   ]
  },
  {
   "cell_type": "markdown",
   "metadata": {},
   "source": [
    "### Making Predictions With the New Ratings\n",
    "Now that you have new ratings, you can use them to make predictions for this new user. The proper way this should work is:\n",
    "\n",
    "* add the new ratings to the original ratings DataFrame, read into a `surprise` dataset \n",
    "* train a model using the new combined DataFrame\n",
    "* make predictions for the user\n",
    "* order those predictions from highest rated to lowest rated\n",
    "* return the top n recommendations with the text of the actual movie (rather than just the index number) "
   ]
  },
  {
   "cell_type": "code",
   "execution_count": 21,
   "metadata": {},
   "outputs": [],
   "source": [
    "## add the new ratings to the original ratings DataFrame\n",
    "new_ratings_df = new_df.append(user_rating,ignore_index=True)\n",
    "new_data = Dataset.load_from_df(new_ratings_df,reader)"
   ]
  },
  {
   "cell_type": "code",
   "execution_count": 22,
   "metadata": {},
   "outputs": [
    {
     "data": {
      "text/plain": [
       "<surprise.prediction_algorithms.matrix_factorization.SVD at 0x27c9a54dd30>"
      ]
     },
     "execution_count": 22,
     "metadata": {},
     "output_type": "execute_result"
    }
   ],
   "source": [
    "# train a model using the new combined DataFrame\n",
    "svd = SVD(n_factors= 50, reg_all=0.05)\n",
    "svd.fit(new_data.build_full_trainset())"
   ]
  },
  {
   "cell_type": "code",
   "execution_count": 24,
   "metadata": {},
   "outputs": [],
   "source": [
    "# make predictions for the user\n",
    "# you'll probably want to create a list of tuples in the format (movie_id, predicted_score)\n",
    "list_of_movies = []\n",
    "for movie in new_df['movieId'].unique():\n",
    "    list_of_movies.append( (movie,svd.predict(1000,movie)[3]))"
   ]
  },
  {
   "cell_type": "code",
   "execution_count": 27,
   "metadata": {},
   "outputs": [],
   "source": [
    "# order the predictions from highest to lowest rated\n",
    "ranked_movies = sorted(list_of_movies,key=lambda x:x[1],reverse=True)"
   ]
  },
  {
   "cell_type": "markdown",
   "metadata": {},
   "source": [
    " For the final component of this challenge, it could be useful to create a function `recommended_movies()` that takes in the parameters:\n",
    "* `user_ratings`: list - list of tuples formulated as (user_id, movie_id) (should be in order of best to worst for this individual)\n",
    "* `movie_title_df`: DataFrame \n",
    "* `n`: int - number of recommended movies \n",
    "\n",
    "The function should use a `for` loop to print out each recommended *n* movies in order from best to worst"
   ]
  },
  {
   "cell_type": "code",
   "execution_count": 36,
   "metadata": {},
   "outputs": [
    {
     "name": "stdout",
     "output_type": "stream",
     "text": [
      "Movie Recommendations:\n",
      "\n",
      "1. I Love Trouble (1994)\n",
      "2. Oklahoma! (1955)\n",
      "3. Pompatus of Love, The (1996)\n",
      "4. Withnail & I (1987)\n",
      "5. Leave It to Beaver (1997)\n",
      "6. In the Company of Men (1997)\n",
      "7. Virtuosity (1995)\n",
      "8. Billy Elliot (2000)\n",
      "9. TiMER (2009)\n",
      "10. Night of the Living Dead (1968)\n"
     ]
    }
   ],
   "source": [
    "# return the top n recommendations using the \n",
    "def recommended_movies(user_ratings,movie_title_df,n):\n",
    "    total=n+1\n",
    "    print('Movie Recommendations:\\n')\n",
    "    while n>0:\n",
    "        print(f'{total-n}. {movie_title_df.title[user_ratings[total-n-1][0]]}')\n",
    "        n-=1\n",
    "recommended_movies(ranked_movies,df_movies,10)"
   ]
  },
  {
   "cell_type": "markdown",
   "metadata": {},
   "source": [
    "## Level Up (Optional)\n",
    "\n",
    "* Try and chain all of the steps together into one function that asks users for ratings for a certain number of movies, then all of the above steps are performed to return the top $n$ recommendations\n",
    "* Make a recommender system that only returns items that come from a specified genre"
   ]
  },
  {
   "cell_type": "code",
   "execution_count": 37,
   "metadata": {},
   "outputs": [],
   "source": [
    "def movieRecommender(movie_df,num_to_rate=5, num_to_rec=5, genre=None):\n",
    "    user_rating=movie_rater(movie_df,num_to_rate,genre)\n",
    "    new_ratings_df = new_df.append(user_rating,ignore_index=True)\n",
    "    new_data = Dataset.load_from_df(new_ratings_df,reader)\n",
    "    svd = SVD(n_factors= 50, reg_all=0.05)\n",
    "    svd.fit(new_data.build_full_trainset())\n",
    "    list_of_movies = []\n",
    "    for movie in new_df['movieId'].unique():\n",
    "        list_of_movies.append((movie,svd.predict(1000,movie)[3]))\n",
    "    ranked_movies = sorted(list_of_movies,key=lambda x:x[1],reverse=True)\n",
    "    print('\\n')\n",
    "    recommended_movies(ranked_movies,movie_df,num_to_rec)\n",
    "    return"
   ]
  },
  {
   "cell_type": "code",
   "execution_count": 39,
   "metadata": {
    "scrolled": true
   },
   "outputs": [
    {
     "name": "stdout",
     "output_type": "stream",
     "text": [
      "\n",
      "\n",
      "     movieId                      title                genres\n",
      "976     1277  Cyrano de Bergerac (1990)  Comedy|Drama|Romance\n",
      "How do you rate this movie on a scale of 1-5? Press 'n' if you haven't seen it.n\n",
      "\n",
      "\n",
      "      movieId                     title        genres\n",
      "5905    33646  Longest Yard, The (2005)  Comedy|Drama\n",
      "How do you rate this movie on a scale of 1-5? Press 'n' if you haven't seen it.n\n",
      "\n",
      "\n",
      "      movieId                                           title  \\\n",
      "8638   119155  Night at the Museum: Secret of the Tomb (2014)   \n",
      "\n",
      "                                 genres  \n",
      "8638  Adventure|Children|Comedy|Fantasy  \n",
      "How do you rate this movie on a scale of 1-5? Press 'n' if you haven't seen it.2\n",
      "\n",
      "\n",
      "      movieId                     title                 genres\n",
      "9222   152079  London Has Fallen (2016)  Action|Crime|Thriller\n",
      "How do you rate this movie on a scale of 1-5? Press 'n' if you haven't seen it.n\n",
      "\n",
      "\n",
      "      movieId                   title  genres\n",
      "4254     6204  Meteor Man, The (1993)  Comedy\n",
      "How do you rate this movie on a scale of 1-5? Press 'n' if you haven't seen it.n\n",
      "\n",
      "\n",
      "      movieId                       title          genres\n",
      "2461     3274  Single White Female (1992)  Drama|Thriller\n",
      "How do you rate this movie on a scale of 1-5? Press 'n' if you haven't seen it.n\n",
      "\n",
      "\n",
      "      movieId                                              title  \\\n",
      "6596    55363  Assassination of Jesse James by the Coward Rob...   \n",
      "\n",
      "                   genres  \n",
      "6596  Crime|Drama|Western  \n",
      "How do you rate this movie on a scale of 1-5? Press 'n' if you haven't seen it.n\n",
      "\n",
      "\n",
      "      movieId                    title       genres\n",
      "5719    27846  Corporation, The (2003)  Documentary\n",
      "How do you rate this movie on a scale of 1-5? Press 'n' if you haven't seen it.n\n",
      "\n",
      "\n",
      "      movieId               title         genres\n",
      "1345     1829  Chinese Box (1997)  Drama|Romance\n",
      "How do you rate this movie on a scale of 1-5? Press 'n' if you haven't seen it.n\n",
      "\n",
      "\n",
      "      movieId                      title         genres\n",
      "2915     3910  Dancer in the Dark (2000)  Drama|Musical\n",
      "How do you rate this movie on a scale of 1-5? Press 'n' if you haven't seen it.n\n",
      "\n",
      "\n",
      "      movieId                                              title  genres\n",
      "6958    65738  Revenge of the Nerds III: The Next Generation ...  Comedy\n",
      "How do you rate this movie on a scale of 1-5? Press 'n' if you haven't seen it.1\n",
      "\n",
      "\n",
      "     movieId                        title        genres\n",
      "281      322  Swimming with Sharks (1995)  Comedy|Drama\n",
      "How do you rate this movie on a scale of 1-5? Press 'n' if you haven't seen it.n\n",
      "\n",
      "\n",
      "      movieId                                title                genres\n",
      "2416     3210  Fast Times at Ridgemont High (1982)  Comedy|Drama|Romance\n",
      "How do you rate this movie on a scale of 1-5? Press 'n' if you haven't seen it.2\n",
      "\n",
      "\n",
      "      movieId                   title                 genres\n",
      "7817    92643  Monsieur Lazhar (2011)  Children|Comedy|Drama\n",
      "How do you rate this movie on a scale of 1-5? Press 'n' if you haven't seen it.n\n",
      "\n",
      "\n",
      "      movieId                        title                genres\n",
      "7477    82167  Love and Other Drugs (2010)  Comedy|Drama|Romance\n",
      "How do you rate this movie on a scale of 1-5? Press 'n' if you haven't seen it.n\n",
      "\n",
      "\n",
      "      movieId            title                                       genres\n",
      "1177     1566  Hercules (1997)  Adventure|Animation|Children|Comedy|Musical\n",
      "How do you rate this movie on a scale of 1-5? Press 'n' if you haven't seen it.3\n",
      "\n",
      "\n",
      "      movieId                     title         genres\n",
      "4819     7179  Wuthering Heights (1992)  Drama|Romance\n",
      "How do you rate this movie on a scale of 1-5? Press 'n' if you haven't seen it.n\n",
      "\n",
      "\n",
      "      movieId                        title genres\n",
      "5325     8844  Camera Buff (Amator) (1979)  Drama\n",
      "How do you rate this movie on a scale of 1-5? Press 'n' if you haven't seen it.n\n",
      "\n",
      "\n",
      "      movieId                            title  genres\n",
      "1473     1998  Exorcist II: The Heretic (1977)  Horror\n",
      "How do you rate this movie on a scale of 1-5? Press 'n' if you haven't seen it.n\n",
      "\n",
      "\n",
      "     movieId                         title genres\n",
      "179      211  Browning Version, The (1994)  Drama\n",
      "How do you rate this movie on a scale of 1-5? Press 'n' if you haven't seen it.n\n",
      "\n",
      "\n",
      "      movieId                   title genres\n",
      "3314     4484  Camille Claudel (1988)  Drama\n",
      "How do you rate this movie on a scale of 1-5? Press 'n' if you haven't seen it.n\n",
      "\n",
      "\n",
      "     movieId                           title genres\n",
      "342      385  Man of No Importance, A (1994)  Drama\n",
      "How do you rate this movie on a scale of 1-5? Press 'n' if you haven't seen it.n\n",
      "\n",
      "\n",
      "      movieId                                              title  \\\n",
      "7252    74282  Anne of Green Gables: The Sequel (a.k.a. Anne ...   \n",
      "\n",
      "                      genres  \n",
      "7252  Children|Drama|Romance  \n",
      "How do you rate this movie on a scale of 1-5? Press 'n' if you haven't seen it.n\n",
      "\n",
      "\n",
      "      movieId                     title                                genres\n",
      "1562     2099  Song of the South (1946)  Adventure|Animation|Children|Musical\n",
      "How do you rate this movie on a scale of 1-5? Press 'n' if you haven't seen it.n\n",
      "\n",
      "\n",
      "      movieId              title          genres\n",
      "6191    44974  Hard Candy (2005)  Drama|Thriller\n",
      "How do you rate this movie on a scale of 1-5? Press 'n' if you haven't seen it.n\n",
      "\n",
      "\n",
      "      movieId                                   title  \\\n",
      "6779    60289  Kit Kittredge: An American Girl (2008)   \n",
      "\n",
      "                             genres  \n",
      "6779  Children|Comedy|Drama|Mystery  \n",
      "How do you rate this movie on a scale of 1-5? Press 'n' if you haven't seen it.n\n",
      "\n",
      "\n",
      "     movieId                           title genres\n",
      "469      536  Simple Twist of Fate, A (1994)  Drama\n",
      "How do you rate this movie on a scale of 1-5? Press 'n' if you haven't seen it.n\n",
      "\n",
      "\n",
      "      movieId                                 title  genres\n",
      "8775   128914  Tom Segura: Completely Normal (2014)  Comedy\n",
      "How do you rate this movie on a scale of 1-5? Press 'n' if you haven't seen it.n\n",
      "\n",
      "\n",
      "      movieId                     title                genres\n",
      "2642     3536  Keeping the Faith (2000)  Comedy|Drama|Romance\n",
      "How do you rate this movie on a scale of 1-5? Press 'n' if you haven't seen it.4\n",
      "\n",
      "\n",
      "      movieId                           title           genres\n",
      "6447    51937  Hills Have Eyes II, The (2007)  Horror|Thriller\n",
      "How do you rate this movie on a scale of 1-5? Press 'n' if you haven't seen it.n\n",
      "\n",
      "\n",
      "     movieId           title                  genres\n",
      "725      945  Top Hat (1935)  Comedy|Musical|Romance\n",
      "How do you rate this movie on a scale of 1-5? Press 'n' if you haven't seen it.n\n",
      "\n",
      "\n",
      "      movieId                    title  genres\n",
      "2074     2754  Deadtime Stories (1987)  Horror\n",
      "How do you rate this movie on a scale of 1-5? Press 'n' if you haven't seen it.n\n",
      "\n",
      "\n",
      "      movieId                                              title  \\\n",
      "2856     3822  Girl on the Bridge, The (Fille sur le pont, La...   \n",
      "\n",
      "             genres  \n",
      "2856  Drama|Romance  \n",
      "How do you rate this movie on a scale of 1-5? Press 'n' if you haven't seen it.n\n",
      "\n",
      "\n",
      "      movieId                                         title     genres\n",
      "9384   163639  DC Super Hero Girls: Hero of the Year (2016)  Animation\n",
      "How do you rate this movie on a scale of 1-5? Press 'n' if you haven't seen it.n\n",
      "\n",
      "\n",
      "      movieId                title                genres\n",
      "1669     2245  Working Girl (1988)  Comedy|Drama|Romance\n",
      "How do you rate this movie on a scale of 1-5? Press 'n' if you haven't seen it.3\n",
      "\n",
      "\n",
      "      movieId                                              title      genres\n",
      "4069     5801  Russians Are Coming, the Russians Are Coming, ...  Comedy|War\n",
      "How do you rate this movie on a scale of 1-5? Press 'n' if you haven't seen it.n\n",
      "\n",
      "\n",
      "      movieId                 title            genres\n",
      "4902     7347  Secret Window (2004)  Mystery|Thriller\n",
      "How do you rate this movie on a scale of 1-5? Press 'n' if you haven't seen it.n\n",
      "\n",
      "\n",
      "     movieId             title                      genres\n",
      "711      930  Notorious (1946)  Film-Noir|Romance|Thriller\n",
      "How do you rate this movie on a scale of 1-5? Press 'n' if you haven't seen it.n\n",
      "\n",
      "\n",
      "      movieId               title                  genres\n",
      "3572     4890  Shallow Hal (2001)  Comedy|Fantasy|Romance\n",
      "How do you rate this movie on a scale of 1-5? Press 'n' if you haven't seen it.4\n"
     ]
    },
    {
     "name": "stdout",
     "output_type": "stream",
     "text": [
      "\n",
      "\n",
      "      movieId                        title genres\n",
      "7412    80454  Princess (Prinsessa) (2010)  Drama\n",
      "How do you rate this movie on a scale of 1-5? Press 'n' if you haven't seen it.n\n",
      "\n",
      "\n",
      "     movieId                             title genres\n",
      "121      148  Awfully Big Adventure, An (1995)  Drama\n",
      "How do you rate this movie on a scale of 1-5? Press 'n' if you haven't seen it.n\n",
      "\n",
      "\n",
      "      movieId                          title                           genres\n",
      "6732    59103  Forbidden Kingdom, The (2008)  Action|Adventure|Comedy|Fantasy\n",
      "How do you rate this movie on a scale of 1-5? Press 'n' if you haven't seen it.n\n",
      "\n",
      "\n",
      "      movieId                        title                   genres\n",
      "2879     3849  The Spiral Staircase (1945)  Horror|Mystery|Thriller\n",
      "How do you rate this movie on a scale of 1-5? Press 'n' if you haven't seen it.n\n",
      "\n",
      "\n",
      "     movieId           title                             genres\n",
      "594      736  Twister (1996)  Action|Adventure|Romance|Thriller\n",
      "How do you rate this movie on a scale of 1-5? Press 'n' if you haven't seen it.2\n",
      "\n",
      "\n",
      "      movieId                   title  genres\n",
      "5249     8609  Our Hospitality (1923)  Comedy\n",
      "How do you rate this movie on a scale of 1-5? Press 'n' if you haven't seen it.n\n",
      "\n",
      "\n",
      "      movieId            title genres\n",
      "5070     7976  Ken Park (2002)  Drama\n",
      "How do you rate this movie on a scale of 1-5? Press 'n' if you haven't seen it.n\n",
      "\n",
      "\n",
      "      movieId                                title  \\\n",
      "3686     5076  Adventures of Huck Finn, The (1993)   \n",
      "\n",
      "                               genres  \n",
      "3686  Adventure|Children|Comedy|Drama  \n",
      "How do you rate this movie on a scale of 1-5? Press 'n' if you haven't seen it.n\n",
      "\n",
      "\n",
      "      movieId                    title  genres\n",
      "2074     2754  Deadtime Stories (1987)  Horror\n",
      "How do you rate this movie on a scale of 1-5? Press 'n' if you haven't seen it.n\n",
      "\n",
      "\n",
      "      movieId                         title  genres\n",
      "1264     1679  Chairman of the Board (1998)  Comedy\n",
      "How do you rate this movie on a scale of 1-5? Press 'n' if you haven't seen it.n\n",
      "\n",
      "\n",
      "     movieId          title                   genres\n",
      "637      810  Kazaam (1996)  Children|Comedy|Fantasy\n",
      "How do you rate this movie on a scale of 1-5? Press 'n' if you haven't seen it.n\n",
      "\n",
      "\n",
      "      movieId            title                genres\n",
      "2799     3741  Badlands (1973)  Crime|Drama|Thriller\n",
      "How do you rate this movie on a scale of 1-5? Press 'n' if you haven't seen it.n\n",
      "\n",
      "\n",
      "      movieId                title          genres\n",
      "2265     3006  Insider, The (1999)  Drama|Thriller\n",
      "How do you rate this movie on a scale of 1-5? Press 'n' if you haven't seen it.n\n",
      "\n",
      "\n",
      "      movieId                       title                    genres\n",
      "7679    89190  Conan the Barbarian (2011)  Action|Adventure|Fantasy\n",
      "How do you rate this movie on a scale of 1-5? Press 'n' if you haven't seen it.n\n",
      "\n",
      "\n",
      "      movieId          title    genres\n",
      "1632     2178  Frenzy (1972)  Thriller\n",
      "How do you rate this movie on a scale of 1-5? Press 'n' if you haven't seen it.n\n",
      "\n",
      "\n",
      "      movieId                    title     genres\n",
      "3064     4111  Gardens of Stone (1987)  Drama|War\n",
      "How do you rate this movie on a scale of 1-5? Press 'n' if you haven't seen it.n\n",
      "\n",
      "\n",
      "      movieId          title           genres\n",
      "1320     1779  Sphere (1998)  Sci-Fi|Thriller\n",
      "How do you rate this movie on a scale of 1-5? Press 'n' if you haven't seen it.n\n",
      "\n",
      "\n",
      "      movieId                  title  genres\n",
      "2500     3341  Born Yesterday (1950)  Comedy\n",
      "How do you rate this movie on a scale of 1-5? Press 'n' if you haven't seen it.n\n",
      "\n",
      "\n",
      "      movieId                          title        genres\n",
      "5044     7883  I Walked with a Zombie (1943)  Drama|Horror\n",
      "How do you rate this movie on a scale of 1-5? Press 'n' if you haven't seen it.n\n",
      "\n",
      "\n",
      "      movieId                    title         genres\n",
      "6975    66427  My Name Is Bruce (2007)  Comedy|Horror\n",
      "How do you rate this movie on a scale of 1-5? Press 'n' if you haven't seen it.n\n",
      "\n",
      "\n",
      "      movieId                    title                genres\n",
      "5919    33815  Perfect Man, The (2005)  Comedy|Drama|Romance\n",
      "How do you rate this movie on a scale of 1-5? Press 'n' if you haven't seen it.n\n",
      "\n",
      "\n",
      "      movieId                                              title  genres\n",
      "2703     3626  8 ½ Women (a.k.a. 8 1/2 Women) (a.k.a. Eight a...  Comedy\n",
      "How do you rate this movie on a scale of 1-5? Press 'n' if you haven't seen it.n\n",
      "\n",
      "\n",
      "      movieId           title  genres\n",
      "3862     5427  Caveman (1981)  Comedy\n",
      "How do you rate this movie on a scale of 1-5? Press 'n' if you haven't seen it.n\n",
      "\n",
      "\n",
      "      movieId             title                    genres\n",
      "4746     7070  Red River (1948)  Action|Adventure|Western\n",
      "How do you rate this movie on a scale of 1-5? Press 'n' if you haven't seen it.n\n",
      "\n",
      "\n",
      "      movieId                           title            genres\n",
      "7682    89305  Inbetweeners Movie, The (2011)  Adventure|Comedy\n",
      "How do you rate this movie on a scale of 1-5? Press 'n' if you haven't seen it.n\n",
      "\n",
      "\n",
      "      movieId                                title  genres\n",
      "8671   121374  Bill Burr: Why Do I Do This? (2008)  Comedy\n",
      "How do you rate this movie on a scale of 1-5? Press 'n' if you haven't seen it.n\n",
      "\n",
      "\n",
      "     movieId            title                   genres\n",
      "275      316  Stargate (1994)  Action|Adventure|Sci-Fi\n",
      "How do you rate this movie on a scale of 1-5? Press 'n' if you haven't seen it.3\n",
      "\n",
      "\n",
      "      movieId                        title       genres\n",
      "4302     6288  Better Luck Tomorrow (2002)  Crime|Drama\n",
      "How do you rate this movie on a scale of 1-5? Press 'n' if you haven't seen it.n\n",
      "\n",
      "\n",
      "      movieId                title  genres\n",
      "1393     1911  Dr. Dolittle (1998)  Comedy\n",
      "How do you rate this movie on a scale of 1-5? Press 'n' if you haven't seen it.2\n",
      "Movie Recommendations:\n",
      "\n",
      "1. Star Wars: Episode V - The Empire Strikes Back (1980)\n",
      "2. I Love Trouble (1994)\n",
      "3. In the Company of Men (1997)\n",
      "4. Georgia (1995)\n",
      "5. Aristocats, The (1970)\n",
      "6. Virtuosity (1995)\n",
      "7. Withnail & I (1987)\n",
      "8. Escape from New York (1981)\n",
      "9. Cement Garden, The (1993)\n",
      "10. Amistad (1997)\n"
     ]
    }
   ],
   "source": [
    "movieRecommender(df_movies,10,10)"
   ]
  },
  {
   "cell_type": "markdown",
   "metadata": {},
   "source": [
    "## Summary\n",
    "\n",
    "In this lab, you got the chance to implement a collaborative filtering model as well as retrieve recommendations from that model. You also got the opportunity to add your own recommendations to the system to get new recommendations for yourself! Next, you will learn how to use Spark to make recommender systems."
   ]
  }
 ],
 "metadata": {
  "kernelspec": {
   "display_name": "Python 3",
   "language": "python",
   "name": "python3"
  },
  "language_info": {
   "codemirror_mode": {
    "name": "ipython",
    "version": 3
   },
   "file_extension": ".py",
   "mimetype": "text/x-python",
   "name": "python",
   "nbconvert_exporter": "python",
   "pygments_lexer": "ipython3",
   "version": "3.7.3"
  },
  "toc": {
   "base_numbering": 1,
   "nav_menu": {},
   "number_sections": true,
   "sideBar": true,
   "skip_h1_title": false,
   "title_cell": "Table of Contents",
   "title_sidebar": "Contents",
   "toc_cell": false,
   "toc_position": {},
   "toc_section_display": true,
   "toc_window_display": false
  }
 },
 "nbformat": 4,
 "nbformat_minor": 2
}
